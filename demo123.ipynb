{
  "nbformat": 4,
  "nbformat_minor": 0,
  "metadata": {
    "colab": {
      "provenance": [],
      "authorship_tag": "ABX9TyMn0Q/AssMfp/o/xeDd5Tsr",
      "include_colab_link": true
    },
    "kernelspec": {
      "name": "python3",
      "display_name": "Python 3"
    },
    "language_info": {
      "name": "python"
    }
  },
  "cells": [
    {
      "cell_type": "markdown",
      "metadata": {
        "id": "view-in-github",
        "colab_type": "text"
      },
      "source": [
        "<a href=\"https://colab.research.google.com/github/Sneha-GenZ/Resume-portfolio/blob/main/demo123.ipynb\" target=\"_parent\"><img src=\"https://colab.research.google.com/assets/colab-badge.svg\" alt=\"Open In Colab\"/></a>"
      ]
    },
    {
      "cell_type": "code",
      "execution_count": null,
      "metadata": {
        "id": "OkTWDgYj5xa9"
      },
      "outputs": [],
      "source": [
        "# Parameter Optimization\n",
        "\n",
        "- ### **<a href=\"https://www.psrana.com/\"> Click Here</a> for ppt.**\n",
        "- ### Go the last slide for the assignment\n"
      ]
    }
  ]
}